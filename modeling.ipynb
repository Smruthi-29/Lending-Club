{
 "cells": [
  {
   "cell_type": "markdown",
   "metadata": {},
   "source": [
    "## Modeling"
   ]
  },
  {
   "cell_type": "markdown",
   "metadata": {},
   "source": [
    "### Importing required libraries"
   ]
  },
  {
   "cell_type": "code",
   "execution_count": 2,
   "metadata": {},
   "outputs": [],
   "source": [
    "#import libraries\n",
    "import pandas as pd\n",
    "import statsmodels.tools.tools as sm\n",
    "import numpy as np\n",
    "import pandas as pd\n",
    "import matplotlib.pyplot as plt\n",
    "import seaborn as sns\n",
    "from sklearn.preprocessing import StandardScaler,MinMaxScaler\n",
    "import statsmodels.api as sm\n",
    "from warnings import filterwarnings\n",
    "filterwarnings('ignore')\n",
    "import imblearn.over_sampling as im\n",
    "from sklearn.linear_model import LogisticRegression\n",
    "from sklearn.model_selection import train_test_split\n",
    "from sklearn.metrics import confusion_matrix,accuracy_score,recall_score,roc_auc_score,classification_report,f1_score\n",
    "from sklearn.tree import DecisionTreeClassifier\n",
    "from statsmodels.stats.outliers_influence import variance_inflation_factor"
   ]
  },
  {
   "cell_type": "code",
   "execution_count": 3,
   "metadata": {},
   "outputs": [
    {
     "data": {
      "text/html": [
       "<div>\n",
       "<style scoped>\n",
       "    .dataframe tbody tr th:only-of-type {\n",
       "        vertical-align: middle;\n",
       "    }\n",
       "\n",
       "    .dataframe tbody tr th {\n",
       "        vertical-align: top;\n",
       "    }\n",
       "\n",
       "    .dataframe thead th {\n",
       "        text-align: right;\n",
       "    }\n",
       "</style>\n",
       "<table border=\"1\" class=\"dataframe\">\n",
       "  <thead>\n",
       "    <tr style=\"text-align: right;\">\n",
       "      <th></th>\n",
       "      <th>grade</th>\n",
       "      <th>emp_length</th>\n",
       "      <th>loan_status</th>\n",
       "      <th>term_ 60 months</th>\n",
       "      <th>home_ownership_NONE</th>\n",
       "      <th>home_ownership_OTHER</th>\n",
       "      <th>home_ownership_OWN</th>\n",
       "      <th>home_ownership_RENT</th>\n",
       "      <th>verification_status_Source Verified</th>\n",
       "      <th>verification_status_Verified</th>\n",
       "      <th>...</th>\n",
       "      <th>dti</th>\n",
       "      <th>delinq_2yrs</th>\n",
       "      <th>inq_last_6mths</th>\n",
       "      <th>open_acc</th>\n",
       "      <th>pub_rec</th>\n",
       "      <th>revol_bal</th>\n",
       "      <th>revol_util</th>\n",
       "      <th>total_acc</th>\n",
       "      <th>pub_rec_bankruptcies</th>\n",
       "      <th>fico_average</th>\n",
       "    </tr>\n",
       "  </thead>\n",
       "  <tbody>\n",
       "    <tr>\n",
       "      <th>0</th>\n",
       "      <td>2</td>\n",
       "      <td>11</td>\n",
       "      <td>0</td>\n",
       "      <td>0</td>\n",
       "      <td>0</td>\n",
       "      <td>0</td>\n",
       "      <td>0</td>\n",
       "      <td>1</td>\n",
       "      <td>0</td>\n",
       "      <td>1</td>\n",
       "      <td>...</td>\n",
       "      <td>2.148332</td>\n",
       "      <td>-0.349616</td>\n",
       "      <td>0.053150</td>\n",
       "      <td>-1.473694</td>\n",
       "      <td>-0.233295</td>\n",
       "      <td>0.011290</td>\n",
       "      <td>1.225422</td>\n",
       "      <td>-1.160265</td>\n",
       "      <td>-0.205881</td>\n",
       "      <td>0.569261</td>\n",
       "    </tr>\n",
       "    <tr>\n",
       "      <th>1</th>\n",
       "      <td>3</td>\n",
       "      <td>1</td>\n",
       "      <td>1</td>\n",
       "      <td>1</td>\n",
       "      <td>0</td>\n",
       "      <td>0</td>\n",
       "      <td>0</td>\n",
       "      <td>1</td>\n",
       "      <td>1</td>\n",
       "      <td>0</td>\n",
       "      <td>...</td>\n",
       "      <td>-1.849256</td>\n",
       "      <td>-0.349616</td>\n",
       "      <td>2.542837</td>\n",
       "      <td>-1.473694</td>\n",
       "      <td>-0.233295</td>\n",
       "      <td>-0.739809</td>\n",
       "      <td>-1.395933</td>\n",
       "      <td>-1.603223</td>\n",
       "      <td>-0.205881</td>\n",
       "      <td>0.709417</td>\n",
       "    </tr>\n",
       "    <tr>\n",
       "      <th>2</th>\n",
       "      <td>3</td>\n",
       "      <td>11</td>\n",
       "      <td>0</td>\n",
       "      <td>0</td>\n",
       "      <td>0</td>\n",
       "      <td>0</td>\n",
       "      <td>0</td>\n",
       "      <td>1</td>\n",
       "      <td>0</td>\n",
       "      <td>0</td>\n",
       "      <td>...</td>\n",
       "      <td>-0.691230</td>\n",
       "      <td>-0.349616</td>\n",
       "      <td>0.883045</td>\n",
       "      <td>-1.708273</td>\n",
       "      <td>-0.233295</td>\n",
       "      <td>-0.660121</td>\n",
       "      <td>1.747576</td>\n",
       "      <td>-1.071673</td>\n",
       "      <td>-0.205881</td>\n",
       "      <td>0.569261</td>\n",
       "    </tr>\n",
       "    <tr>\n",
       "      <th>3</th>\n",
       "      <td>3</td>\n",
       "      <td>11</td>\n",
       "      <td>0</td>\n",
       "      <td>0</td>\n",
       "      <td>0</td>\n",
       "      <td>0</td>\n",
       "      <td>0</td>\n",
       "      <td>1</td>\n",
       "      <td>1</td>\n",
       "      <td>0</td>\n",
       "      <td>...</td>\n",
       "      <td>1.000807</td>\n",
       "      <td>-0.349616</td>\n",
       "      <td>0.053150</td>\n",
       "      <td>0.168359</td>\n",
       "      <td>-0.233295</td>\n",
       "      <td>-0.494215</td>\n",
       "      <td>-0.986677</td>\n",
       "      <td>1.320301</td>\n",
       "      <td>-0.205881</td>\n",
       "      <td>-0.692145</td>\n",
       "    </tr>\n",
       "    <tr>\n",
       "      <th>4</th>\n",
       "      <td>2</td>\n",
       "      <td>2</td>\n",
       "      <td>0</td>\n",
       "      <td>1</td>\n",
       "      <td>0</td>\n",
       "      <td>0</td>\n",
       "      <td>0</td>\n",
       "      <td>1</td>\n",
       "      <td>1</td>\n",
       "      <td>0</td>\n",
       "      <td>...</td>\n",
       "      <td>0.691800</td>\n",
       "      <td>-0.349616</td>\n",
       "      <td>-0.776746</td>\n",
       "      <td>1.341254</td>\n",
       "      <td>-0.233295</td>\n",
       "      <td>0.898907</td>\n",
       "      <td>0.174057</td>\n",
       "      <td>1.408893</td>\n",
       "      <td>-0.205881</td>\n",
       "      <td>-0.551989</td>\n",
       "    </tr>\n",
       "  </tbody>\n",
       "</table>\n",
       "<p>5 rows × 36 columns</p>\n",
       "</div>"
      ],
      "text/plain": [
       "   grade  emp_length  loan_status  term_ 60 months  home_ownership_NONE  \\\n",
       "0      2          11            0                0                    0   \n",
       "1      3           1            1                1                    0   \n",
       "2      3          11            0                0                    0   \n",
       "3      3          11            0                0                    0   \n",
       "4      2           2            0                1                    0   \n",
       "\n",
       "   home_ownership_OTHER  home_ownership_OWN  home_ownership_RENT  \\\n",
       "0                     0                   0                    1   \n",
       "1                     0                   0                    1   \n",
       "2                     0                   0                    1   \n",
       "3                     0                   0                    1   \n",
       "4                     0                   0                    1   \n",
       "\n",
       "   verification_status_Source Verified  verification_status_Verified  ...  \\\n",
       "0                                    0                             1  ...   \n",
       "1                                    1                             0  ...   \n",
       "2                                    0                             0  ...   \n",
       "3                                    1                             0  ...   \n",
       "4                                    1                             0  ...   \n",
       "\n",
       "        dti  delinq_2yrs  inq_last_6mths  open_acc   pub_rec  revol_bal  \\\n",
       "0  2.148332    -0.349616        0.053150 -1.473694 -0.233295   0.011290   \n",
       "1 -1.849256    -0.349616        2.542837 -1.473694 -0.233295  -0.739809   \n",
       "2 -0.691230    -0.349616        0.883045 -1.708273 -0.233295  -0.660121   \n",
       "3  1.000807    -0.349616        0.053150  0.168359 -0.233295  -0.494215   \n",
       "4  0.691800    -0.349616       -0.776746  1.341254 -0.233295   0.898907   \n",
       "\n",
       "   revol_util  total_acc  pub_rec_bankruptcies  fico_average  \n",
       "0    1.225422  -1.160265             -0.205881      0.569261  \n",
       "1   -1.395933  -1.603223             -0.205881      0.709417  \n",
       "2    1.747576  -1.071673             -0.205881      0.569261  \n",
       "3   -0.986677   1.320301             -0.205881     -0.692145  \n",
       "4    0.174057   1.408893             -0.205881     -0.551989  \n",
       "\n",
       "[5 rows x 36 columns]"
      ]
     },
     "execution_count": 3,
     "metadata": {},
     "output_type": "execute_result"
    }
   ],
   "source": [
    "#Importing dataset\n",
    "df=pd.read_csv('model_data.csv')\n",
    "df.head(5)"
   ]
  },
  {
   "cell_type": "code",
   "execution_count": 4,
   "metadata": {},
   "outputs": [
    {
     "data": {
      "text/plain": [
       "fico_average                           0\n",
       "pub_rec_bankruptcies                   0\n",
       "purpose_major_purchase                 0\n",
       "purpose_house                          0\n",
       "purpose_home_improvement               0\n",
       "purpose_educational                    0\n",
       "purpose_debt_consolidation             0\n",
       "purpose_credit_card                    0\n",
       "verification_status_Verified           0\n",
       "verification_status_Source Verified    0\n",
       "home_ownership_RENT                    0\n",
       "home_ownership_OWN                     0\n",
       "home_ownership_OTHER                   0\n",
       "home_ownership_NONE                    0\n",
       "term_ 60 months                        0\n",
       "loan_status                            0\n",
       "emp_length                             0\n",
       "purpose_medical                        0\n",
       "purpose_moving                         0\n",
       "purpose_other                          0\n",
       "delinq_2yrs                            0\n",
       "total_acc                              0\n",
       "revol_util                             0\n",
       "revol_bal                              0\n",
       "pub_rec                                0\n",
       "open_acc                               0\n",
       "inq_last_6mths                         0\n",
       "dti                                    0\n",
       "purpose_renewable_energy               0\n",
       "annual_inc                             0\n",
       "installment                            0\n",
       "loan_amnt                              0\n",
       "purpose_wedding                        0\n",
       "purpose_vacation                       0\n",
       "purpose_small_business                 0\n",
       "grade                                  0\n",
       "dtype: int64"
      ]
     },
     "execution_count": 4,
     "metadata": {},
     "output_type": "execute_result"
    }
   ],
   "source": [
    "# Are there any missing values ?\n",
    "df.isnull().sum().sort_values(ascending=False)"
   ]
  },
  {
   "cell_type": "code",
   "execution_count": 5,
   "metadata": {},
   "outputs": [
    {
     "data": {
      "text/html": [
       "<div>\n",
       "<style scoped>\n",
       "    .dataframe tbody tr th:only-of-type {\n",
       "        vertical-align: middle;\n",
       "    }\n",
       "\n",
       "    .dataframe tbody tr th {\n",
       "        vertical-align: top;\n",
       "    }\n",
       "\n",
       "    .dataframe thead th {\n",
       "        text-align: right;\n",
       "    }\n",
       "</style>\n",
       "<table border=\"1\" class=\"dataframe\">\n",
       "  <thead>\n",
       "    <tr style=\"text-align: right;\">\n",
       "      <th></th>\n",
       "      <th>grade</th>\n",
       "      <th>emp_length</th>\n",
       "      <th>loan_status</th>\n",
       "      <th>term_ 60 months</th>\n",
       "      <th>home_ownership_NONE</th>\n",
       "      <th>home_ownership_OTHER</th>\n",
       "      <th>home_ownership_OWN</th>\n",
       "      <th>home_ownership_RENT</th>\n",
       "      <th>verification_status_Source Verified</th>\n",
       "      <th>verification_status_Verified</th>\n",
       "      <th>...</th>\n",
       "      <th>dti</th>\n",
       "      <th>delinq_2yrs</th>\n",
       "      <th>inq_last_6mths</th>\n",
       "      <th>open_acc</th>\n",
       "      <th>pub_rec</th>\n",
       "      <th>revol_bal</th>\n",
       "      <th>revol_util</th>\n",
       "      <th>total_acc</th>\n",
       "      <th>pub_rec_bankruptcies</th>\n",
       "      <th>fico_average</th>\n",
       "    </tr>\n",
       "  </thead>\n",
       "  <tbody>\n",
       "    <tr>\n",
       "      <th>count</th>\n",
       "      <td>38708.000000</td>\n",
       "      <td>38708.000000</td>\n",
       "      <td>38708.000000</td>\n",
       "      <td>38708.000000</td>\n",
       "      <td>38708.000000</td>\n",
       "      <td>38708.000000</td>\n",
       "      <td>38708.000000</td>\n",
       "      <td>38708.000000</td>\n",
       "      <td>38708.000000</td>\n",
       "      <td>38708.000000</td>\n",
       "      <td>...</td>\n",
       "      <td>3.870800e+04</td>\n",
       "      <td>3.870800e+04</td>\n",
       "      <td>3.870800e+04</td>\n",
       "      <td>3.870800e+04</td>\n",
       "      <td>3.870800e+04</td>\n",
       "      <td>3.870800e+04</td>\n",
       "      <td>3.870800e+04</td>\n",
       "      <td>3.870800e+04</td>\n",
       "      <td>3.870800e+04</td>\n",
       "      <td>3.870800e+04</td>\n",
       "    </tr>\n",
       "    <tr>\n",
       "      <th>mean</th>\n",
       "      <td>2.589723</td>\n",
       "      <td>5.974346</td>\n",
       "      <td>0.140539</td>\n",
       "      <td>0.269221</td>\n",
       "      <td>0.000078</td>\n",
       "      <td>0.002532</td>\n",
       "      <td>0.073499</td>\n",
       "      <td>0.478118</td>\n",
       "      <td>0.253668</td>\n",
       "      <td>0.320011</td>\n",
       "      <td>...</td>\n",
       "      <td>1.122757e-17</td>\n",
       "      <td>-3.728580e-15</td>\n",
       "      <td>3.620679e-15</td>\n",
       "      <td>2.739246e-16</td>\n",
       "      <td>-2.247351e-15</td>\n",
       "      <td>2.776561e-16</td>\n",
       "      <td>-1.469712e-15</td>\n",
       "      <td>-2.640947e-15</td>\n",
       "      <td>-2.221073e-15</td>\n",
       "      <td>4.290025e-16</td>\n",
       "    </tr>\n",
       "    <tr>\n",
       "      <th>std</th>\n",
       "      <td>1.390201</td>\n",
       "      <td>3.562961</td>\n",
       "      <td>0.347550</td>\n",
       "      <td>0.443561</td>\n",
       "      <td>0.008803</td>\n",
       "      <td>0.050254</td>\n",
       "      <td>0.260957</td>\n",
       "      <td>0.499527</td>\n",
       "      <td>0.435116</td>\n",
       "      <td>0.466487</td>\n",
       "      <td>...</td>\n",
       "      <td>1.000013e+00</td>\n",
       "      <td>1.000013e+00</td>\n",
       "      <td>1.000013e+00</td>\n",
       "      <td>1.000013e+00</td>\n",
       "      <td>1.000013e+00</td>\n",
       "      <td>1.000013e+00</td>\n",
       "      <td>1.000013e+00</td>\n",
       "      <td>1.000013e+00</td>\n",
       "      <td>1.000013e+00</td>\n",
       "      <td>1.000013e+00</td>\n",
       "    </tr>\n",
       "    <tr>\n",
       "      <th>min</th>\n",
       "      <td>1.000000</td>\n",
       "      <td>1.000000</td>\n",
       "      <td>0.000000</td>\n",
       "      <td>0.000000</td>\n",
       "      <td>0.000000</td>\n",
       "      <td>0.000000</td>\n",
       "      <td>0.000000</td>\n",
       "      <td>0.000000</td>\n",
       "      <td>0.000000</td>\n",
       "      <td>0.000000</td>\n",
       "      <td>...</td>\n",
       "      <td>-1.999259e+00</td>\n",
       "      <td>-3.496158e-01</td>\n",
       "      <td>-7.767463e-01</td>\n",
       "      <td>-1.708273e+00</td>\n",
       "      <td>-2.332951e-01</td>\n",
       "      <td>-8.457451e-01</td>\n",
       "      <td>-1.727572e+00</td>\n",
       "      <td>-1.780407e+00</td>\n",
       "      <td>-2.058811e-01</td>\n",
       "      <td>-2.514176e+00</td>\n",
       "    </tr>\n",
       "    <tr>\n",
       "      <th>25%</th>\n",
       "      <td>1.000000</td>\n",
       "      <td>3.000000</td>\n",
       "      <td>0.000000</td>\n",
       "      <td>0.000000</td>\n",
       "      <td>0.000000</td>\n",
       "      <td>0.000000</td>\n",
       "      <td>0.000000</td>\n",
       "      <td>0.000000</td>\n",
       "      <td>0.000000</td>\n",
       "      <td>0.000000</td>\n",
       "      <td>...</td>\n",
       "      <td>-7.677319e-01</td>\n",
       "      <td>-3.496158e-01</td>\n",
       "      <td>-7.767463e-01</td>\n",
       "      <td>-7.699571e-01</td>\n",
       "      <td>-2.332951e-01</td>\n",
       "      <td>-6.104655e-01</td>\n",
       "      <td>-8.243862e-01</td>\n",
       "      <td>-7.173068e-01</td>\n",
       "      <td>-2.058811e-01</td>\n",
       "      <td>-8.323015e-01</td>\n",
       "    </tr>\n",
       "    <tr>\n",
       "      <th>50%</th>\n",
       "      <td>2.000000</td>\n",
       "      <td>5.000000</td>\n",
       "      <td>0.000000</td>\n",
       "      <td>0.000000</td>\n",
       "      <td>0.000000</td>\n",
       "      <td>0.000000</td>\n",
       "      <td>0.000000</td>\n",
       "      <td>0.000000</td>\n",
       "      <td>0.000000</td>\n",
       "      <td>0.000000</td>\n",
       "      <td>...</td>\n",
       "      <td>1.378524e-02</td>\n",
       "      <td>-3.496158e-01</td>\n",
       "      <td>5.314952e-02</td>\n",
       "      <td>-6.622003e-02</td>\n",
       "      <td>-2.332951e-01</td>\n",
       "      <td>-2.837239e-01</td>\n",
       "      <td>1.882218e-02</td>\n",
       "      <td>-1.857568e-01</td>\n",
       "      <td>-2.058811e-01</td>\n",
       "      <td>-1.315205e-01</td>\n",
       "    </tr>\n",
       "    <tr>\n",
       "      <th>75%</th>\n",
       "      <td>3.000000</td>\n",
       "      <td>10.000000</td>\n",
       "      <td>0.000000</td>\n",
       "      <td>1.000000</td>\n",
       "      <td>0.000000</td>\n",
       "      <td>0.000000</td>\n",
       "      <td>0.000000</td>\n",
       "      <td>1.000000</td>\n",
       "      <td>1.000000</td>\n",
       "      <td>1.000000</td>\n",
       "      <td>...</td>\n",
       "      <td>7.893022e-01</td>\n",
       "      <td>-3.496158e-01</td>\n",
       "      <td>5.314952e-02</td>\n",
       "      <td>6.375171e-01</td>\n",
       "      <td>-2.332951e-01</td>\n",
       "      <td>2.317186e-01</td>\n",
       "      <td>8.302779e-01</td>\n",
       "      <td>6.115681e-01</td>\n",
       "      <td>-2.058811e-01</td>\n",
       "      <td>7.094168e-01</td>\n",
       "    </tr>\n",
       "    <tr>\n",
       "      <th>max</th>\n",
       "      <td>7.000000</td>\n",
       "      <td>11.000000</td>\n",
       "      <td>1.000000</td>\n",
       "      <td>1.000000</td>\n",
       "      <td>1.000000</td>\n",
       "      <td>1.000000</td>\n",
       "      <td>1.000000</td>\n",
       "      <td>1.000000</td>\n",
       "      <td>1.000000</td>\n",
       "      <td>1.000000</td>\n",
       "      <td>...</td>\n",
       "      <td>2.499340e+00</td>\n",
       "      <td>2.860282e+00</td>\n",
       "      <td>2.542837e+00</td>\n",
       "      <td>2.983307e+00</td>\n",
       "      <td>4.286417e+00</td>\n",
       "      <td>8.547733e+00</td>\n",
       "      <td>1.796969e+00</td>\n",
       "      <td>3.003543e+00</td>\n",
       "      <td>4.857172e+00</td>\n",
       "      <td>3.092072e+00</td>\n",
       "    </tr>\n",
       "  </tbody>\n",
       "</table>\n",
       "<p>8 rows × 36 columns</p>\n",
       "</div>"
      ],
      "text/plain": [
       "              grade    emp_length   loan_status  term_ 60 months  \\\n",
       "count  38708.000000  38708.000000  38708.000000     38708.000000   \n",
       "mean       2.589723      5.974346      0.140539         0.269221   \n",
       "std        1.390201      3.562961      0.347550         0.443561   \n",
       "min        1.000000      1.000000      0.000000         0.000000   \n",
       "25%        1.000000      3.000000      0.000000         0.000000   \n",
       "50%        2.000000      5.000000      0.000000         0.000000   \n",
       "75%        3.000000     10.000000      0.000000         1.000000   \n",
       "max        7.000000     11.000000      1.000000         1.000000   \n",
       "\n",
       "       home_ownership_NONE  home_ownership_OTHER  home_ownership_OWN  \\\n",
       "count         38708.000000          38708.000000        38708.000000   \n",
       "mean              0.000078              0.002532            0.073499   \n",
       "std               0.008803              0.050254            0.260957   \n",
       "min               0.000000              0.000000            0.000000   \n",
       "25%               0.000000              0.000000            0.000000   \n",
       "50%               0.000000              0.000000            0.000000   \n",
       "75%               0.000000              0.000000            0.000000   \n",
       "max               1.000000              1.000000            1.000000   \n",
       "\n",
       "       home_ownership_RENT  verification_status_Source Verified  \\\n",
       "count         38708.000000                         38708.000000   \n",
       "mean              0.478118                             0.253668   \n",
       "std               0.499527                             0.435116   \n",
       "min               0.000000                             0.000000   \n",
       "25%               0.000000                             0.000000   \n",
       "50%               0.000000                             0.000000   \n",
       "75%               1.000000                             1.000000   \n",
       "max               1.000000                             1.000000   \n",
       "\n",
       "       verification_status_Verified  ...           dti   delinq_2yrs  \\\n",
       "count                  38708.000000  ...  3.870800e+04  3.870800e+04   \n",
       "mean                       0.320011  ...  1.122757e-17 -3.728580e-15   \n",
       "std                        0.466487  ...  1.000013e+00  1.000013e+00   \n",
       "min                        0.000000  ... -1.999259e+00 -3.496158e-01   \n",
       "25%                        0.000000  ... -7.677319e-01 -3.496158e-01   \n",
       "50%                        0.000000  ...  1.378524e-02 -3.496158e-01   \n",
       "75%                        1.000000  ...  7.893022e-01 -3.496158e-01   \n",
       "max                        1.000000  ...  2.499340e+00  2.860282e+00   \n",
       "\n",
       "       inq_last_6mths      open_acc       pub_rec     revol_bal    revol_util  \\\n",
       "count    3.870800e+04  3.870800e+04  3.870800e+04  3.870800e+04  3.870800e+04   \n",
       "mean     3.620679e-15  2.739246e-16 -2.247351e-15  2.776561e-16 -1.469712e-15   \n",
       "std      1.000013e+00  1.000013e+00  1.000013e+00  1.000013e+00  1.000013e+00   \n",
       "min     -7.767463e-01 -1.708273e+00 -2.332951e-01 -8.457451e-01 -1.727572e+00   \n",
       "25%     -7.767463e-01 -7.699571e-01 -2.332951e-01 -6.104655e-01 -8.243862e-01   \n",
       "50%      5.314952e-02 -6.622003e-02 -2.332951e-01 -2.837239e-01  1.882218e-02   \n",
       "75%      5.314952e-02  6.375171e-01 -2.332951e-01  2.317186e-01  8.302779e-01   \n",
       "max      2.542837e+00  2.983307e+00  4.286417e+00  8.547733e+00  1.796969e+00   \n",
       "\n",
       "          total_acc  pub_rec_bankruptcies  fico_average  \n",
       "count  3.870800e+04          3.870800e+04  3.870800e+04  \n",
       "mean  -2.640947e-15         -2.221073e-15  4.290025e-16  \n",
       "std    1.000013e+00          1.000013e+00  1.000013e+00  \n",
       "min   -1.780407e+00         -2.058811e-01 -2.514176e+00  \n",
       "25%   -7.173068e-01         -2.058811e-01 -8.323015e-01  \n",
       "50%   -1.857568e-01         -2.058811e-01 -1.315205e-01  \n",
       "75%    6.115681e-01         -2.058811e-01  7.094168e-01  \n",
       "max    3.003543e+00          4.857172e+00  3.092072e+00  \n",
       "\n",
       "[8 rows x 36 columns]"
      ]
     },
     "execution_count": 5,
     "metadata": {},
     "output_type": "execute_result"
    }
   ],
   "source": [
    "#summary of data\n",
    "df.describe()"
   ]
  },
  {
   "cell_type": "code",
   "execution_count": 6,
   "metadata": {},
   "outputs": [
    {
     "data": {
      "text/plain": [
       "(38708, 36)"
      ]
     },
     "execution_count": 6,
     "metadata": {},
     "output_type": "execute_result"
    }
   ],
   "source": [
    "#Determining the shape of the dataset\n",
    "df.shape"
   ]
  },
  {
   "cell_type": "code",
   "execution_count": 7,
   "metadata": {},
   "outputs": [
    {
     "data": {
      "text/plain": [
       "grade                                    int64\n",
       "emp_length                               int64\n",
       "loan_status                              int64\n",
       "term_ 60 months                          int64\n",
       "home_ownership_NONE                      int64\n",
       "home_ownership_OTHER                     int64\n",
       "home_ownership_OWN                       int64\n",
       "home_ownership_RENT                      int64\n",
       "verification_status_Source Verified      int64\n",
       "verification_status_Verified             int64\n",
       "purpose_credit_card                      int64\n",
       "purpose_debt_consolidation               int64\n",
       "purpose_educational                      int64\n",
       "purpose_home_improvement                 int64\n",
       "purpose_house                            int64\n",
       "purpose_major_purchase                   int64\n",
       "purpose_medical                          int64\n",
       "purpose_moving                           int64\n",
       "purpose_other                            int64\n",
       "purpose_renewable_energy                 int64\n",
       "purpose_small_business                   int64\n",
       "purpose_vacation                         int64\n",
       "purpose_wedding                          int64\n",
       "loan_amnt                              float64\n",
       "installment                            float64\n",
       "annual_inc                             float64\n",
       "dti                                    float64\n",
       "delinq_2yrs                            float64\n",
       "inq_last_6mths                         float64\n",
       "open_acc                               float64\n",
       "pub_rec                                float64\n",
       "revol_bal                              float64\n",
       "revol_util                             float64\n",
       "total_acc                              float64\n",
       "pub_rec_bankruptcies                   float64\n",
       "fico_average                           float64\n",
       "dtype: object"
      ]
     },
     "execution_count": 7,
     "metadata": {},
     "output_type": "execute_result"
    }
   ],
   "source": [
    "#Datatypes of the datafeature\n",
    "df.dtypes"
   ]
  },
  {
   "cell_type": "markdown",
   "metadata": {},
   "source": [
    "### Model preparation"
   ]
  },
  {
   "cell_type": "code",
   "execution_count": 8,
   "metadata": {},
   "outputs": [],
   "source": [
    "X=df.drop(['loan_status'],axis=1)\n",
    "y=df['loan_status']"
   ]
  },
  {
   "cell_type": "code",
   "execution_count": 9,
   "metadata": {},
   "outputs": [
    {
     "data": {
      "text/plain": [
       "(38708, 35)"
      ]
     },
     "execution_count": 9,
     "metadata": {},
     "output_type": "execute_result"
    }
   ],
   "source": [
    "#Checking x shape\n",
    "X.shape"
   ]
  },
  {
   "cell_type": "code",
   "execution_count": 10,
   "metadata": {},
   "outputs": [
    {
     "data": {
      "text/plain": [
       "(38708,)"
      ]
     },
     "execution_count": 10,
     "metadata": {},
     "output_type": "execute_result"
    }
   ],
   "source": [
    "#Checking y shape\n",
    "y.shape"
   ]
  },
  {
   "cell_type": "markdown",
   "metadata": {},
   "source": [
    "### Decision Tree"
   ]
  },
  {
   "cell_type": "code",
   "execution_count": 11,
   "metadata": {},
   "outputs": [
    {
     "data": {
      "text/plain": [
       "DecisionTreeClassifier(criterion='entropy', max_depth=14, random_state=12)"
      ]
     },
     "execution_count": 11,
     "metadata": {},
     "output_type": "execute_result"
    }
   ],
   "source": [
    "dt =DecisionTreeClassifier(criterion='entropy',random_state=12,max_depth=14)\n",
    "dt.fit(X, y)"
   ]
  },
  {
   "cell_type": "code",
   "execution_count": 12,
   "metadata": {},
   "outputs": [
    {
     "data": {
      "text/html": [
       "<div>\n",
       "<style scoped>\n",
       "    .dataframe tbody tr th:only-of-type {\n",
       "        vertical-align: middle;\n",
       "    }\n",
       "\n",
       "    .dataframe tbody tr th {\n",
       "        vertical-align: top;\n",
       "    }\n",
       "\n",
       "    .dataframe thead th {\n",
       "        text-align: right;\n",
       "    }\n",
       "</style>\n",
       "<table border=\"1\" class=\"dataframe\">\n",
       "  <thead>\n",
       "    <tr style=\"text-align: right;\">\n",
       "      <th></th>\n",
       "      <th>index</th>\n",
       "      <th>columns</th>\n",
       "      <th>fi</th>\n",
       "    </tr>\n",
       "  </thead>\n",
       "  <tbody>\n",
       "    <tr>\n",
       "      <th>0</th>\n",
       "      <td>0</td>\n",
       "      <td>grade</td>\n",
       "      <td>0.119748</td>\n",
       "    </tr>\n",
       "    <tr>\n",
       "      <th>1</th>\n",
       "      <td>24</td>\n",
       "      <td>annual_inc</td>\n",
       "      <td>0.112598</td>\n",
       "    </tr>\n",
       "    <tr>\n",
       "      <th>2</th>\n",
       "      <td>31</td>\n",
       "      <td>revol_util</td>\n",
       "      <td>0.102153</td>\n",
       "    </tr>\n",
       "    <tr>\n",
       "      <th>3</th>\n",
       "      <td>25</td>\n",
       "      <td>dti</td>\n",
       "      <td>0.100287</td>\n",
       "    </tr>\n",
       "    <tr>\n",
       "      <th>4</th>\n",
       "      <td>30</td>\n",
       "      <td>revol_bal</td>\n",
       "      <td>0.093691</td>\n",
       "    </tr>\n",
       "    <tr>\n",
       "      <th>5</th>\n",
       "      <td>23</td>\n",
       "      <td>installment</td>\n",
       "      <td>0.087903</td>\n",
       "    </tr>\n",
       "    <tr>\n",
       "      <th>6</th>\n",
       "      <td>32</td>\n",
       "      <td>total_acc</td>\n",
       "      <td>0.063267</td>\n",
       "    </tr>\n",
       "    <tr>\n",
       "      <th>7</th>\n",
       "      <td>22</td>\n",
       "      <td>loan_amnt</td>\n",
       "      <td>0.050989</td>\n",
       "    </tr>\n",
       "    <tr>\n",
       "      <th>8</th>\n",
       "      <td>34</td>\n",
       "      <td>fico_average</td>\n",
       "      <td>0.050688</td>\n",
       "    </tr>\n",
       "    <tr>\n",
       "      <th>9</th>\n",
       "      <td>1</td>\n",
       "      <td>emp_length</td>\n",
       "      <td>0.038922</td>\n",
       "    </tr>\n",
       "    <tr>\n",
       "      <th>10</th>\n",
       "      <td>28</td>\n",
       "      <td>open_acc</td>\n",
       "      <td>0.037789</td>\n",
       "    </tr>\n",
       "    <tr>\n",
       "      <th>11</th>\n",
       "      <td>2</td>\n",
       "      <td>term_ 60 months</td>\n",
       "      <td>0.026028</td>\n",
       "    </tr>\n",
       "    <tr>\n",
       "      <th>12</th>\n",
       "      <td>27</td>\n",
       "      <td>inq_last_6mths</td>\n",
       "      <td>0.019720</td>\n",
       "    </tr>\n",
       "    <tr>\n",
       "      <th>13</th>\n",
       "      <td>19</td>\n",
       "      <td>purpose_small_business</td>\n",
       "      <td>0.015104</td>\n",
       "    </tr>\n",
       "    <tr>\n",
       "      <th>14</th>\n",
       "      <td>6</td>\n",
       "      <td>home_ownership_RENT</td>\n",
       "      <td>0.014338</td>\n",
       "    </tr>\n",
       "    <tr>\n",
       "      <th>15</th>\n",
       "      <td>29</td>\n",
       "      <td>pub_rec</td>\n",
       "      <td>0.007230</td>\n",
       "    </tr>\n",
       "    <tr>\n",
       "      <th>16</th>\n",
       "      <td>9</td>\n",
       "      <td>purpose_credit_card</td>\n",
       "      <td>0.007207</td>\n",
       "    </tr>\n",
       "    <tr>\n",
       "      <th>17</th>\n",
       "      <td>7</td>\n",
       "      <td>verification_status_Source Verified</td>\n",
       "      <td>0.006302</td>\n",
       "    </tr>\n",
       "    <tr>\n",
       "      <th>18</th>\n",
       "      <td>5</td>\n",
       "      <td>home_ownership_OWN</td>\n",
       "      <td>0.006229</td>\n",
       "    </tr>\n",
       "    <tr>\n",
       "      <th>19</th>\n",
       "      <td>14</td>\n",
       "      <td>purpose_major_purchase</td>\n",
       "      <td>0.006139</td>\n",
       "    </tr>\n",
       "    <tr>\n",
       "      <th>20</th>\n",
       "      <td>17</td>\n",
       "      <td>purpose_other</td>\n",
       "      <td>0.005158</td>\n",
       "    </tr>\n",
       "    <tr>\n",
       "      <th>21</th>\n",
       "      <td>26</td>\n",
       "      <td>delinq_2yrs</td>\n",
       "      <td>0.004824</td>\n",
       "    </tr>\n",
       "    <tr>\n",
       "      <th>22</th>\n",
       "      <td>10</td>\n",
       "      <td>purpose_debt_consolidation</td>\n",
       "      <td>0.004566</td>\n",
       "    </tr>\n",
       "    <tr>\n",
       "      <th>23</th>\n",
       "      <td>12</td>\n",
       "      <td>purpose_home_improvement</td>\n",
       "      <td>0.003985</td>\n",
       "    </tr>\n",
       "    <tr>\n",
       "      <th>24</th>\n",
       "      <td>8</td>\n",
       "      <td>verification_status_Verified</td>\n",
       "      <td>0.003700</td>\n",
       "    </tr>\n",
       "    <tr>\n",
       "      <th>25</th>\n",
       "      <td>33</td>\n",
       "      <td>pub_rec_bankruptcies</td>\n",
       "      <td>0.003336</td>\n",
       "    </tr>\n",
       "    <tr>\n",
       "      <th>26</th>\n",
       "      <td>11</td>\n",
       "      <td>purpose_educational</td>\n",
       "      <td>0.002644</td>\n",
       "    </tr>\n",
       "    <tr>\n",
       "      <th>27</th>\n",
       "      <td>15</td>\n",
       "      <td>purpose_medical</td>\n",
       "      <td>0.001569</td>\n",
       "    </tr>\n",
       "    <tr>\n",
       "      <th>28</th>\n",
       "      <td>16</td>\n",
       "      <td>purpose_moving</td>\n",
       "      <td>0.001445</td>\n",
       "    </tr>\n",
       "    <tr>\n",
       "      <th>29</th>\n",
       "      <td>18</td>\n",
       "      <td>purpose_renewable_energy</td>\n",
       "      <td>0.001361</td>\n",
       "    </tr>\n",
       "    <tr>\n",
       "      <th>30</th>\n",
       "      <td>21</td>\n",
       "      <td>purpose_wedding</td>\n",
       "      <td>0.000544</td>\n",
       "    </tr>\n",
       "    <tr>\n",
       "      <th>31</th>\n",
       "      <td>13</td>\n",
       "      <td>purpose_house</td>\n",
       "      <td>0.000534</td>\n",
       "    </tr>\n",
       "    <tr>\n",
       "      <th>32</th>\n",
       "      <td>20</td>\n",
       "      <td>purpose_vacation</td>\n",
       "      <td>0.000000</td>\n",
       "    </tr>\n",
       "    <tr>\n",
       "      <th>33</th>\n",
       "      <td>4</td>\n",
       "      <td>home_ownership_OTHER</td>\n",
       "      <td>0.000000</td>\n",
       "    </tr>\n",
       "    <tr>\n",
       "      <th>34</th>\n",
       "      <td>3</td>\n",
       "      <td>home_ownership_NONE</td>\n",
       "      <td>0.000000</td>\n",
       "    </tr>\n",
       "  </tbody>\n",
       "</table>\n",
       "</div>"
      ],
      "text/plain": [
       "    index                              columns        fi\n",
       "0       0                                grade  0.119748\n",
       "1      24                           annual_inc  0.112598\n",
       "2      31                           revol_util  0.102153\n",
       "3      25                                  dti  0.100287\n",
       "4      30                            revol_bal  0.093691\n",
       "5      23                          installment  0.087903\n",
       "6      32                            total_acc  0.063267\n",
       "7      22                            loan_amnt  0.050989\n",
       "8      34                         fico_average  0.050688\n",
       "9       1                           emp_length  0.038922\n",
       "10     28                             open_acc  0.037789\n",
       "11      2                      term_ 60 months  0.026028\n",
       "12     27                       inq_last_6mths  0.019720\n",
       "13     19               purpose_small_business  0.015104\n",
       "14      6                  home_ownership_RENT  0.014338\n",
       "15     29                              pub_rec  0.007230\n",
       "16      9                  purpose_credit_card  0.007207\n",
       "17      7  verification_status_Source Verified  0.006302\n",
       "18      5                   home_ownership_OWN  0.006229\n",
       "19     14               purpose_major_purchase  0.006139\n",
       "20     17                        purpose_other  0.005158\n",
       "21     26                          delinq_2yrs  0.004824\n",
       "22     10           purpose_debt_consolidation  0.004566\n",
       "23     12             purpose_home_improvement  0.003985\n",
       "24      8         verification_status_Verified  0.003700\n",
       "25     33                 pub_rec_bankruptcies  0.003336\n",
       "26     11                  purpose_educational  0.002644\n",
       "27     15                      purpose_medical  0.001569\n",
       "28     16                       purpose_moving  0.001445\n",
       "29     18             purpose_renewable_energy  0.001361\n",
       "30     21                      purpose_wedding  0.000544\n",
       "31     13                        purpose_house  0.000534\n",
       "32     20                     purpose_vacation  0.000000\n",
       "33      4                 home_ownership_OTHER  0.000000\n",
       "34      3                  home_ownership_NONE  0.000000"
      ]
     },
     "execution_count": 12,
     "metadata": {},
     "output_type": "execute_result"
    }
   ],
   "source": [
    "#getting feature importance\n",
    "col=[]\n",
    "fi=[]\n",
    "for i,column in enumerate(X):\n",
    "    col.append(column)\n",
    "    fi.append(dt.feature_importances_[i])\n",
    "data=pd.DataFrame({'columns':col,'fi':fi})\n",
    "data=data.sort_values('fi',ascending=False).reset_index()\n",
    "data"
   ]
  },
  {
   "cell_type": "code",
   "execution_count": 13,
   "metadata": {},
   "outputs": [],
   "source": [
    "#feteching columns with importance\n",
    "imp=data['columns'][0:32]"
   ]
  },
  {
   "cell_type": "code",
   "execution_count": 14,
   "metadata": {},
   "outputs": [
    {
     "data": {
      "text/plain": [
       "(38708, 35)"
      ]
     },
     "execution_count": 14,
     "metadata": {},
     "output_type": "execute_result"
    }
   ],
   "source": [
    "X.shape"
   ]
  },
  {
   "cell_type": "code",
   "execution_count": 15,
   "metadata": {},
   "outputs": [
    {
     "data": {
      "text/plain": [
       "(38708, 32)"
      ]
     },
     "execution_count": 15,
     "metadata": {},
     "output_type": "execute_result"
    }
   ],
   "source": [
    "X[imp].shape"
   ]
  },
  {
   "cell_type": "code",
   "execution_count": 17,
   "metadata": {},
   "outputs": [
    {
     "data": {
      "text/plain": [
       "(38708, 32)"
      ]
     },
     "execution_count": 17,
     "metadata": {},
     "output_type": "execute_result"
    }
   ],
   "source": [
    "#taking only the columns that are important\n",
    "X=X[imp]\n",
    "X.shape"
   ]
  },
  {
   "cell_type": "markdown",
   "metadata": {},
   "source": [
    "### Checking for multicollinearity using vif"
   ]
  },
  {
   "cell_type": "code",
   "execution_count": 20,
   "metadata": {},
   "outputs": [
    {
     "data": {
      "text/html": [
       "<div>\n",
       "<style scoped>\n",
       "    .dataframe tbody tr th:only-of-type {\n",
       "        vertical-align: middle;\n",
       "    }\n",
       "\n",
       "    .dataframe tbody tr th {\n",
       "        vertical-align: top;\n",
       "    }\n",
       "\n",
       "    .dataframe thead th {\n",
       "        text-align: right;\n",
       "    }\n",
       "</style>\n",
       "<table border=\"1\" class=\"dataframe\">\n",
       "  <thead>\n",
       "    <tr style=\"text-align: right;\">\n",
       "      <th></th>\n",
       "      <th>columns</th>\n",
       "      <th>vif</th>\n",
       "    </tr>\n",
       "  </thead>\n",
       "  <tbody>\n",
       "    <tr>\n",
       "      <th>7</th>\n",
       "      <td>loan_amnt</td>\n",
       "      <td>15.108691</td>\n",
       "    </tr>\n",
       "    <tr>\n",
       "      <th>5</th>\n",
       "      <td>installment</td>\n",
       "      <td>13.588770</td>\n",
       "    </tr>\n",
       "    <tr>\n",
       "      <th>0</th>\n",
       "      <td>grade</td>\n",
       "      <td>12.594131</td>\n",
       "    </tr>\n",
       "    <tr>\n",
       "      <th>22</th>\n",
       "      <td>purpose_debt_consolidation</td>\n",
       "      <td>5.534447</td>\n",
       "    </tr>\n",
       "    <tr>\n",
       "      <th>15</th>\n",
       "      <td>pub_rec</td>\n",
       "      <td>4.588347</td>\n",
       "    </tr>\n",
       "    <tr>\n",
       "      <th>25</th>\n",
       "      <td>pub_rec_bankruptcies</td>\n",
       "      <td>4.535995</td>\n",
       "    </tr>\n",
       "    <tr>\n",
       "      <th>11</th>\n",
       "      <td>term_ 60 months</td>\n",
       "      <td>3.915417</td>\n",
       "    </tr>\n",
       "    <tr>\n",
       "      <th>9</th>\n",
       "      <td>emp_length</td>\n",
       "      <td>3.855131</td>\n",
       "    </tr>\n",
       "    <tr>\n",
       "      <th>8</th>\n",
       "      <td>fico_average</td>\n",
       "      <td>3.073149</td>\n",
       "    </tr>\n",
       "    <tr>\n",
       "      <th>14</th>\n",
       "      <td>home_ownership_RENT</td>\n",
       "      <td>2.559323</td>\n",
       "    </tr>\n",
       "    <tr>\n",
       "      <th>6</th>\n",
       "      <td>total_acc</td>\n",
       "      <td>2.320569</td>\n",
       "    </tr>\n",
       "    <tr>\n",
       "      <th>10</th>\n",
       "      <td>open_acc</td>\n",
       "      <td>2.184779</td>\n",
       "    </tr>\n",
       "    <tr>\n",
       "      <th>16</th>\n",
       "      <td>purpose_credit_card</td>\n",
       "      <td>2.166624</td>\n",
       "    </tr>\n",
       "    <tr>\n",
       "      <th>24</th>\n",
       "      <td>verification_status_Verified</td>\n",
       "      <td>2.152806</td>\n",
       "    </tr>\n",
       "    <tr>\n",
       "      <th>2</th>\n",
       "      <td>revol_util</td>\n",
       "      <td>1.987839</td>\n",
       "    </tr>\n",
       "    <tr>\n",
       "      <th>20</th>\n",
       "      <td>purpose_other</td>\n",
       "      <td>1.983052</td>\n",
       "    </tr>\n",
       "    <tr>\n",
       "      <th>23</th>\n",
       "      <td>purpose_home_improvement</td>\n",
       "      <td>1.732155</td>\n",
       "    </tr>\n",
       "    <tr>\n",
       "      <th>1</th>\n",
       "      <td>annual_inc</td>\n",
       "      <td>1.634234</td>\n",
       "    </tr>\n",
       "    <tr>\n",
       "      <th>17</th>\n",
       "      <td>verification_status_Source Verified</td>\n",
       "      <td>1.617087</td>\n",
       "    </tr>\n",
       "    <tr>\n",
       "      <th>4</th>\n",
       "      <td>revol_bal</td>\n",
       "      <td>1.601369</td>\n",
       "    </tr>\n",
       "    <tr>\n",
       "      <th>19</th>\n",
       "      <td>purpose_major_purchase</td>\n",
       "      <td>1.553655</td>\n",
       "    </tr>\n",
       "    <tr>\n",
       "      <th>13</th>\n",
       "      <td>purpose_small_business</td>\n",
       "      <td>1.537708</td>\n",
       "    </tr>\n",
       "    <tr>\n",
       "      <th>3</th>\n",
       "      <td>dti</td>\n",
       "      <td>1.411481</td>\n",
       "    </tr>\n",
       "    <tr>\n",
       "      <th>30</th>\n",
       "      <td>purpose_wedding</td>\n",
       "      <td>1.236187</td>\n",
       "    </tr>\n",
       "    <tr>\n",
       "      <th>18</th>\n",
       "      <td>home_ownership_OWN</td>\n",
       "      <td>1.190723</td>\n",
       "    </tr>\n",
       "    <tr>\n",
       "      <th>27</th>\n",
       "      <td>purpose_medical</td>\n",
       "      <td>1.174091</td>\n",
       "    </tr>\n",
       "    <tr>\n",
       "      <th>28</th>\n",
       "      <td>purpose_moving</td>\n",
       "      <td>1.154478</td>\n",
       "    </tr>\n",
       "    <tr>\n",
       "      <th>21</th>\n",
       "      <td>delinq_2yrs</td>\n",
       "      <td>1.146227</td>\n",
       "    </tr>\n",
       "    <tr>\n",
       "      <th>31</th>\n",
       "      <td>purpose_house</td>\n",
       "      <td>1.108068</td>\n",
       "    </tr>\n",
       "    <tr>\n",
       "      <th>26</th>\n",
       "      <td>purpose_educational</td>\n",
       "      <td>1.086393</td>\n",
       "    </tr>\n",
       "    <tr>\n",
       "      <th>12</th>\n",
       "      <td>inq_last_6mths</td>\n",
       "      <td>1.059075</td>\n",
       "    </tr>\n",
       "    <tr>\n",
       "      <th>29</th>\n",
       "      <td>purpose_renewable_energy</td>\n",
       "      <td>1.026094</td>\n",
       "    </tr>\n",
       "  </tbody>\n",
       "</table>\n",
       "</div>"
      ],
      "text/plain": [
       "                                columns        vif\n",
       "7                             loan_amnt  15.108691\n",
       "5                           installment  13.588770\n",
       "0                                 grade  12.594131\n",
       "22           purpose_debt_consolidation   5.534447\n",
       "15                              pub_rec   4.588347\n",
       "25                 pub_rec_bankruptcies   4.535995\n",
       "11                      term_ 60 months   3.915417\n",
       "9                            emp_length   3.855131\n",
       "8                          fico_average   3.073149\n",
       "14                  home_ownership_RENT   2.559323\n",
       "6                             total_acc   2.320569\n",
       "10                             open_acc   2.184779\n",
       "16                  purpose_credit_card   2.166624\n",
       "24         verification_status_Verified   2.152806\n",
       "2                            revol_util   1.987839\n",
       "20                        purpose_other   1.983052\n",
       "23             purpose_home_improvement   1.732155\n",
       "1                            annual_inc   1.634234\n",
       "17  verification_status_Source Verified   1.617087\n",
       "4                             revol_bal   1.601369\n",
       "19               purpose_major_purchase   1.553655\n",
       "13               purpose_small_business   1.537708\n",
       "3                                   dti   1.411481\n",
       "30                      purpose_wedding   1.236187\n",
       "18                   home_ownership_OWN   1.190723\n",
       "27                      purpose_medical   1.174091\n",
       "28                       purpose_moving   1.154478\n",
       "21                          delinq_2yrs   1.146227\n",
       "31                        purpose_house   1.108068\n",
       "26                  purpose_educational   1.086393\n",
       "12                       inq_last_6mths   1.059075\n",
       "29             purpose_renewable_energy   1.026094"
      ]
     },
     "execution_count": 20,
     "metadata": {},
     "output_type": "execute_result"
    }
   ],
   "source": [
    "vif=pd.DataFrame()\n",
    "vif['columns']=X.columns\n",
    "vif['vif']=[variance_inflation_factor(X.values,i )for i in range (X.shape[1])]\n",
    "vif.sort_values('vif',ascending=False)"
   ]
  },
  {
   "cell_type": "markdown",
   "metadata": {},
   "source": [
    "**Inference- No Multicollinearity is present in the dataset**"
   ]
  },
  {
   "cell_type": "code",
   "execution_count": 26,
   "metadata": {},
   "outputs": [],
   "source": [
    "#spliting into test and train\n",
    "X_train, X_test, y_train, y_test = train_test_split(X,y,test_size = .3 ,random_state=10)"
   ]
  },
  {
   "cell_type": "code",
   "execution_count": 27,
   "metadata": {},
   "outputs": [
    {
     "name": "stdout",
     "output_type": "stream",
     "text": [
      "(27095, 32)\n",
      "(11613, 32)\n",
      "(27095,)\n",
      "(11613,)\n"
     ]
    }
   ],
   "source": [
    "print(X_train.shape)\n",
    "print(X_test.shape)\n",
    "\n",
    "print(y_train.shape)\n",
    "print(y_test.shape)"
   ]
  },
  {
   "cell_type": "markdown",
   "metadata": {},
   "source": [
    "### Applying smote because of imbalance in the target"
   ]
  },
  {
   "cell_type": "code",
   "execution_count": 28,
   "metadata": {},
   "outputs": [],
   "source": [
    "smote = im.SMOTE(sampling_strategy='minority',random_state=1)\n",
    "X_train_res, y_train_res = smote.fit_resample(X_train, y_train)"
   ]
  },
  {
   "cell_type": "code",
   "execution_count": 29,
   "metadata": {},
   "outputs": [
    {
     "data": {
      "text/plain": [
       "1    23238\n",
       "0    23238\n",
       "Name: loan_status, dtype: int64"
      ]
     },
     "execution_count": 29,
     "metadata": {},
     "output_type": "execute_result"
    }
   ],
   "source": [
    "y_train_res.value_counts()"
   ]
  },
  {
   "cell_type": "markdown",
   "metadata": {},
   "source": [
    "## Applying Logistic Regression"
   ]
  },
  {
   "cell_type": "code",
   "execution_count": 118,
   "metadata": {},
   "outputs": [
    {
     "data": {
      "text/plain": [
       "LogisticRegression(C=75, fit_intercept=False, random_state=10)"
      ]
     },
     "execution_count": 118,
     "metadata": {},
     "output_type": "execute_result"
    }
   ],
   "source": [
    "#building a logistic regression model\n",
    "\n",
    "logreg=LogisticRegression(C=75, dual=False,fit_intercept=False, random_state=10, solver='lbfgs')\n",
    "logreg.fit(X_train_res, y_train_res)"
   ]
  },
  {
   "cell_type": "code",
   "execution_count": 125,
   "metadata": {},
   "outputs": [
    {
     "name": "stdout",
     "output_type": "stream",
     "text": [
      "Train results \n",
      "\n",
      "0.7195756949823565\n",
      "\n",
      "\n",
      "[[17802  5436]\n",
      " [ 7597 15641]]\n",
      "              precision    recall  f1-score   support\n",
      "\n",
      "           0       0.70      0.77      0.73     23238\n",
      "           1       0.74      0.67      0.71     23238\n",
      "\n",
      "    accuracy                           0.72     46476\n",
      "   macro avg       0.72      0.72      0.72     46476\n",
      "weighted avg       0.72      0.72      0.72     46476\n",
      "\n"
     ]
    }
   ],
   "source": [
    "#getting train scores\n",
    "print('Train results \\n')\n",
    "y_train_predict = logreg.predict(X_train_res)\n",
    "model_score = logreg.score(X_train_res, y_train_res)\n",
    "print(model_score)\n",
    "print(\"\\n\")\n",
    "print(confusion_matrix(y_train_res, y_train_predict))\n",
    "print(classification_report(y_train_res, y_train_predict))"
   ]
  },
  {
   "cell_type": "code",
   "execution_count": 126,
   "metadata": {},
   "outputs": [
    {
     "name": "stdout",
     "output_type": "stream",
     "text": [
      "\n",
      "Test results \n",
      "\n",
      "0.7177301300266942\n",
      "\n",
      "\n",
      "[[7676 2354]\n",
      " [ 924  659]]\n",
      "              precision    recall  f1-score   support\n",
      "\n",
      "           0       0.89      0.77      0.82     10030\n",
      "           1       0.22      0.42      0.29      1583\n",
      "\n",
      "    accuracy                           0.72     11613\n",
      "   macro avg       0.56      0.59      0.56     11613\n",
      "weighted avg       0.80      0.72      0.75     11613\n",
      "\n"
     ]
    }
   ],
   "source": [
    "#getting test scores\n",
    "print('\\nTest results \\n')\n",
    "y_test_predict = logreg.predict(X_test)\n",
    "model_score = logreg.score(X_test, y_test)\n",
    "print(model_score)\n",
    "print(\"\\n\")\n",
    "print(confusion_matrix(y_test, y_test_predict))\n",
    "print(classification_report(y_test, y_test_predict))"
   ]
  },
  {
   "cell_type": "markdown",
   "metadata": {},
   "source": [
    "## Naive bayes"
   ]
  },
  {
   "cell_type": "code",
   "execution_count": 127,
   "metadata": {},
   "outputs": [
    {
     "data": {
      "text/plain": [
       "GaussianNB()"
      ]
     },
     "execution_count": 127,
     "metadata": {},
     "output_type": "execute_result"
    }
   ],
   "source": [
    "#Naive Bayes\n",
    "from sklearn.naive_bayes import GaussianNB\n",
    "\n",
    "NB_model = GaussianNB()\n",
    "NB_model.fit(X_train_res, y_train_res)"
   ]
  },
  {
   "cell_type": "code",
   "execution_count": 141,
   "metadata": {},
   "outputs": [
    {
     "name": "stdout",
     "output_type": "stream",
     "text": [
      "0.3919542350987267\n",
      "\n",
      "\n",
      "[[ 7743 15495]\n",
      " [  980  2877]]\n",
      "              precision    recall  f1-score   support\n",
      "\n",
      "           0       0.89      0.33      0.48     23238\n",
      "           1       0.16      0.75      0.26      3857\n",
      "\n",
      "    accuracy                           0.39     27095\n",
      "   macro avg       0.52      0.54      0.37     27095\n",
      "weighted avg       0.78      0.39      0.45     27095\n",
      "\n"
     ]
    }
   ],
   "source": [
    "#train\n",
    "y_train_predict = NB_model.predict(X_train)\n",
    "model_score = NB_model.score(X_train, y_train)\n",
    "print(model_score)\n",
    "print(\"\\n\")\n",
    "print(confusion_matrix(y_train, y_train_predict))\n",
    "print(classification_report(y_train, y_train_predict))"
   ]
  },
  {
   "cell_type": "code",
   "execution_count": 142,
   "metadata": {},
   "outputs": [
    {
     "name": "stdout",
     "output_type": "stream",
     "text": [
      "0.3786274003272195\n",
      "\n",
      "\n",
      "[[3224 6806]\n",
      " [ 410 1173]]\n",
      "              precision    recall  f1-score   support\n",
      "\n",
      "           0       0.89      0.32      0.47     10030\n",
      "           1       0.15      0.74      0.25      1583\n",
      "\n",
      "    accuracy                           0.38     11613\n",
      "   macro avg       0.52      0.53      0.36     11613\n",
      "weighted avg       0.79      0.38      0.44     11613\n",
      "\n"
     ]
    }
   ],
   "source": [
    "#test\n",
    "y_test_predict = NB_model.predict(X_test)\n",
    "model_score = NB_model.score(X_test, y_test)\n",
    "print(model_score)\n",
    "print(\"\\n\")\n",
    "print(confusion_matrix(y_test, y_test_predict))\n",
    "print(classification_report(y_test, y_test_predict))"
   ]
  },
  {
   "cell_type": "markdown",
   "metadata": {},
   "source": [
    "## SVM Model"
   ]
  },
  {
   "cell_type": "code",
   "execution_count": 130,
   "metadata": {},
   "outputs": [
    {
     "data": {
      "text/plain": [
       "SVC(random_state=1)"
      ]
     },
     "execution_count": 130,
     "metadata": {},
     "output_type": "execute_result"
    }
   ],
   "source": [
    "from sklearn import svm\n",
    "\n",
    "SVM_model= svm.SVC(random_state=1)\n",
    "SVM_model.fit(X_train_res, y_train_res)"
   ]
  },
  {
   "cell_type": "code",
   "execution_count": 131,
   "metadata": {},
   "outputs": [
    {
     "name": "stdout",
     "output_type": "stream",
     "text": [
      "0.7667183062225665\n",
      "\n",
      "\n",
      "[[18450  4788]\n",
      " [ 6054 17184]]\n",
      "              precision    recall  f1-score   support\n",
      "\n",
      "           0       0.75      0.79      0.77     23238\n",
      "           1       0.78      0.74      0.76     23238\n",
      "\n",
      "    accuracy                           0.77     46476\n",
      "   macro avg       0.77      0.77      0.77     46476\n",
      "weighted avg       0.77      0.77      0.77     46476\n",
      "\n"
     ]
    }
   ],
   "source": [
    "## Performance Matrix on train data set\n",
    "y_train_predict = SVM_model.predict(X_train_res)\n",
    "model_score = SVM_model.score(X_train_res, y_train_res)\n",
    "print(model_score)\n",
    "print(\"\\n\")\n",
    "print(confusion_matrix(y_train_res, y_train_predict))\n",
    "print(classification_report(y_train_res, y_train_predict))"
   ]
  },
  {
   "cell_type": "code",
   "execution_count": 132,
   "metadata": {},
   "outputs": [
    {
     "name": "stdout",
     "output_type": "stream",
     "text": [
      "0.7258245070179971\n",
      "\n",
      "\n",
      "[[7859 2171]\n",
      " [1013  570]]\n",
      "              precision    recall  f1-score   support\n",
      "\n",
      "           0       0.89      0.78      0.83     10030\n",
      "           1       0.21      0.36      0.26      1583\n",
      "\n",
      "    accuracy                           0.73     11613\n",
      "   macro avg       0.55      0.57      0.55     11613\n",
      "weighted avg       0.79      0.73      0.75     11613\n",
      "\n"
     ]
    }
   ],
   "source": [
    "## Performance Matrix on test data set\n",
    "y_test_predict = SVM_model.predict(X_test)\n",
    "model_score = SVM_model.score(X_test, y_test)\n",
    "print(model_score)\n",
    "print(\"\\n\")\n",
    "print(confusion_matrix(y_test, y_test_predict))\n",
    "print(classification_report(y_test, y_test_predict))"
   ]
  },
  {
   "cell_type": "markdown",
   "metadata": {},
   "source": [
    "## Linear Discrimant Analysis Model"
   ]
  },
  {
   "cell_type": "code",
   "execution_count": 133,
   "metadata": {},
   "outputs": [
    {
     "data": {
      "text/plain": [
       "LinearDiscriminantAnalysis()"
      ]
     },
     "execution_count": 133,
     "metadata": {},
     "output_type": "execute_result"
    }
   ],
   "source": [
    "from sklearn.discriminant_analysis import LinearDiscriminantAnalysis\n",
    "LDA_model= LinearDiscriminantAnalysis()\n",
    "LDA_model.fit(X_train_res, y_train_res)"
   ]
  },
  {
   "cell_type": "code",
   "execution_count": 134,
   "metadata": {},
   "outputs": [
    {
     "name": "stdout",
     "output_type": "stream",
     "text": [
      "0.7416300886479043\n",
      "\n",
      "\n",
      "[[18148  5090]\n",
      " [ 6918 16320]]\n",
      "              precision    recall  f1-score   support\n",
      "\n",
      "           0       0.72      0.78      0.75     23238\n",
      "           1       0.76      0.70      0.73     23238\n",
      "\n",
      "    accuracy                           0.74     46476\n",
      "   macro avg       0.74      0.74      0.74     46476\n",
      "weighted avg       0.74      0.74      0.74     46476\n",
      "\n"
     ]
    }
   ],
   "source": [
    "## Performance Matrix on train data set\n",
    "y_train_predict = LDA_model.predict(X_train_res)\n",
    "model_score = LDA_model.score(X_train_res, y_train_res)\n",
    "print(model_score)\n",
    "print(\"\\n\")\n",
    "print(confusion_matrix(y_train_res, y_train_predict))\n",
    "print(classification_report(y_train_res, y_train_predict))"
   ]
  },
  {
   "cell_type": "code",
   "execution_count": 34,
   "metadata": {},
   "outputs": [
    {
     "name": "stdout",
     "output_type": "stream",
     "text": [
      "0.720161206985636\n",
      "\n",
      "\n",
      "[[6505 1842]\n",
      " [ 866  464]]\n",
      "              precision    recall  f1-score   support\n",
      "\n",
      "           0       0.88      0.78      0.83      8347\n",
      "           1       0.20      0.35      0.26      1330\n",
      "\n",
      "    accuracy                           0.72      9677\n",
      "   macro avg       0.54      0.56      0.54      9677\n",
      "weighted avg       0.79      0.72      0.75      9677\n",
      "\n"
     ]
    }
   ],
   "source": [
    "## Performance Matrix on test data set\n",
    "y_test_predict = LDA_model.predict(X_test)\n",
    "model_score = LDA_model.score(X_test, y_test)\n",
    "print(model_score)\n",
    "print(\"\\n\")\n",
    "print(confusion_matrix(y_test, y_test_predict))\n",
    "print(classification_report(y_test, y_test_predict))"
   ]
  },
  {
   "cell_type": "markdown",
   "metadata": {},
   "source": [
    "## xgboost in the model"
   ]
  },
  {
   "cell_type": "code",
   "execution_count": 135,
   "metadata": {},
   "outputs": [
    {
     "name": "stdout",
     "output_type": "stream",
     "text": [
      "[21:33:02] WARNING: C:/Users/Administrator/workspace/xgboost-win64_release_1.3.0/src/learner.cc:1061: Starting in XGBoost 1.3.0, the default evaluation metric used with the objective 'binary:logistic' was changed from 'error' to 'logloss'. Explicitly set eval_metric if you'd like to restore the old behavior.\n"
     ]
    },
    {
     "data": {
      "text/plain": [
       "XGBClassifier(base_score=0.5, booster='gbtree', colsample_bylevel=1,\n",
       "              colsample_bynode=1, colsample_bytree=1, gamma=0, gpu_id=-1,\n",
       "              importance_type='gain', interaction_constraints='',\n",
       "              learning_rate=0.01, max_delta_step=0, max_depth=6,\n",
       "              min_child_weight=1, missing=nan, monotone_constraints='()',\n",
       "              n_estimators=100, n_jobs=12, num_parallel_tree=1, random_state=1,\n",
       "              reg_alpha=0, reg_lambda=1, scale_pos_weight=1, subsample=1,\n",
       "              tree_method='exact', validate_parameters=1, verbosity=None)"
      ]
     },
     "execution_count": 135,
     "metadata": {},
     "output_type": "execute_result"
    }
   ],
   "source": [
    "import xgboost as xgb\n",
    "XGB_SM_model=xgb.XGBClassifier(random_state=1,learning_rate=0.01)\n",
    "XGB_SM_model.fit(X_train_res, y_train_res)"
   ]
  },
  {
   "cell_type": "code",
   "execution_count": 136,
   "metadata": {},
   "outputs": [
    {
     "name": "stdout",
     "output_type": "stream",
     "text": [
      "0.798282984766331\n",
      "\n",
      "\n",
      "[[20820  2418]\n",
      " [ 6957 16281]]\n",
      "              precision    recall  f1-score   support\n",
      "\n",
      "           0       0.75      0.90      0.82     23238\n",
      "           1       0.87      0.70      0.78     23238\n",
      "\n",
      "    accuracy                           0.80     46476\n",
      "   macro avg       0.81      0.80      0.80     46476\n",
      "weighted avg       0.81      0.80      0.80     46476\n",
      "\n"
     ]
    }
   ],
   "source": [
    "y_train_predict = XGB_SM_model.predict(X_train_res)\n",
    "model_score = XGB_SM_model.score(X_train_res, y_train_res)\n",
    "print(model_score)\n",
    "print(\"\\n\")\n",
    "print(confusion_matrix(y_train_res, y_train_predict))\n",
    "print(classification_report(y_train_res, y_train_predict))"
   ]
  },
  {
   "cell_type": "code",
   "execution_count": 137,
   "metadata": {},
   "outputs": [
    {
     "name": "stdout",
     "output_type": "stream",
     "text": [
      "0.8002238870231637\n",
      "\n",
      "\n",
      "[[8992 1038]\n",
      " [1282  301]]\n",
      "              precision    recall  f1-score   support\n",
      "\n",
      "           0       0.88      0.90      0.89     10030\n",
      "           1       0.22      0.19      0.21      1583\n",
      "\n",
      "    accuracy                           0.80     11613\n",
      "   macro avg       0.55      0.54      0.55     11613\n",
      "weighted avg       0.79      0.80      0.79     11613\n",
      "\n"
     ]
    }
   ],
   "source": [
    "y_train_predict = XGB_SM_model.predict(X_test)\n",
    "model_score = XGB_SM_model.score(X_test, y_test)\n",
    "print(model_score)\n",
    "print(\"\\n\")\n",
    "print(confusion_matrix(y_test, y_train_predict))\n",
    "print(classification_report(y_test, y_train_predict))"
   ]
  },
  {
   "cell_type": "markdown",
   "metadata": {},
   "source": [
    "## Applying KNN Classifier"
   ]
  },
  {
   "cell_type": "code",
   "execution_count": 138,
   "metadata": {},
   "outputs": [
    {
     "data": {
      "text/plain": [
       "KNeighborsClassifier()"
      ]
     },
     "execution_count": 138,
     "metadata": {},
     "output_type": "execute_result"
    }
   ],
   "source": [
    "from sklearn.neighbors import KNeighborsClassifier\n",
    "\n",
    "KNN_SM_model=KNeighborsClassifier()\n",
    "KNN_SM_model.fit(X_train_res,y_train_res)"
   ]
  },
  {
   "cell_type": "code",
   "execution_count": 139,
   "metadata": {},
   "outputs": [
    {
     "name": "stdout",
     "output_type": "stream",
     "text": [
      "0.8456622773044152\n",
      "\n",
      "\n",
      "[[16107  7131]\n",
      " [   42 23196]]\n",
      "              precision    recall  f1-score   support\n",
      "\n",
      "           0       1.00      0.69      0.82     23238\n",
      "           1       0.76      1.00      0.87     23238\n",
      "\n",
      "    accuracy                           0.85     46476\n",
      "   macro avg       0.88      0.85      0.84     46476\n",
      "weighted avg       0.88      0.85      0.84     46476\n",
      "\n"
     ]
    }
   ],
   "source": [
    "#train\n",
    "y_train_predict = KNN_SM_model.predict(X_train_res)\n",
    "model_score = KNN_SM_model.score(X_train_res, y_train_res)\n",
    "print(model_score)\n",
    "print(\"\\n\")\n",
    "print(confusion_matrix(y_train_res, y_train_predict))\n",
    "print(classification_report(y_train_res, y_train_predict))"
   ]
  },
  {
   "cell_type": "code",
   "execution_count": 140,
   "metadata": {},
   "outputs": [
    {
     "name": "stdout",
     "output_type": "stream",
     "text": [
      "0.5862395591147852\n",
      "\n",
      "\n",
      "[[5963 4067]\n",
      " [ 738  845]]\n",
      "              precision    recall  f1-score   support\n",
      "\n",
      "           0       0.89      0.59      0.71     10030\n",
      "           1       0.17      0.53      0.26      1583\n",
      "\n",
      "    accuracy                           0.59     11613\n",
      "   macro avg       0.53      0.56      0.49     11613\n",
      "weighted avg       0.79      0.59      0.65     11613\n",
      "\n"
     ]
    }
   ],
   "source": [
    "#test\n",
    "y_test_predict = KNN_SM_model.predict(X_test)\n",
    "model_score = KNN_SM_model.score(X_test, y_test)\n",
    "print(model_score)\n",
    "print(\"\\n\")\n",
    "print(confusion_matrix(y_test, y_test_predict))\n",
    "print(classification_report(y_test, y_test_predict))"
   ]
  },
  {
   "cell_type": "markdown",
   "metadata": {},
   "source": [
    "## AdaBooster Classifier"
   ]
  },
  {
   "cell_type": "code",
   "execution_count": 41,
   "metadata": {},
   "outputs": [
    {
     "data": {
      "text/plain": [
       "AdaBoostClassifier(n_estimators=100, random_state=1)"
      ]
     },
     "execution_count": 41,
     "metadata": {},
     "output_type": "execute_result"
    }
   ],
   "source": [
    "from sklearn.ensemble import AdaBoostClassifier\n",
    "\n",
    "\n",
    "ADB_model = AdaBoostClassifier(n_estimators=100,random_state=1)\n",
    "ADB_model.fit(X_train_res,y_train_res)"
   ]
  },
  {
   "cell_type": "code",
   "execution_count": 42,
   "metadata": {},
   "outputs": [
    {
     "name": "stdout",
     "output_type": "stream",
     "text": [
      "0.8154167168251675\n",
      "\n",
      "\n",
      "[[21178  3743]\n",
      " [ 5457 19464]]\n",
      "              precision    recall  f1-score   support\n",
      "\n",
      "           0       0.80      0.85      0.82     24921\n",
      "           1       0.84      0.78      0.81     24921\n",
      "\n",
      "    accuracy                           0.82     49842\n",
      "   macro avg       0.82      0.82      0.82     49842\n",
      "weighted avg       0.82      0.82      0.82     49842\n",
      "\n"
     ]
    }
   ],
   "source": [
    "#train\n",
    "y_train_predict = ADB_model.predict(X_train_res)\n",
    "model_score = ADB_model.score(X_train_res, y_train_res)\n",
    "print(model_score)\n",
    "print(\"\\n\")\n",
    "print(confusion_matrix(y_train_res, y_train_predict))\n",
    "print(classification_report(y_train_res, y_train_predict))"
   ]
  },
  {
   "cell_type": "code",
   "execution_count": 43,
   "metadata": {},
   "outputs": [
    {
     "name": "stdout",
     "output_type": "stream",
     "text": [
      "0.7667665598842617\n",
      "\n",
      "\n",
      "[[7063 1284]\n",
      " [ 973  357]]\n",
      "              precision    recall  f1-score   support\n",
      "\n",
      "           0       0.88      0.85      0.86      8347\n",
      "           1       0.22      0.27      0.24      1330\n",
      "\n",
      "    accuracy                           0.77      9677\n",
      "   macro avg       0.55      0.56      0.55      9677\n",
      "weighted avg       0.79      0.77      0.78      9677\n",
      "\n"
     ]
    }
   ],
   "source": [
    "#test\n",
    "y_test_predict = ADB_model.predict(X_test)\n",
    "model_score = ADB_model.score(X_test, y_test)\n",
    "print(model_score)\n",
    "print(\"\\n\")\n",
    "print(confusion_matrix(y_test, y_test_predict))\n",
    "print(classification_report(y_test, y_test_predict))"
   ]
  },
  {
   "cell_type": "markdown",
   "metadata": {},
   "source": [
    "## Random forest"
   ]
  },
  {
   "cell_type": "code",
   "execution_count": 147,
   "metadata": {},
   "outputs": [
    {
     "data": {
      "text/plain": [
       "RandomForestClassifier(max_depth=14, random_state=12)"
      ]
     },
     "execution_count": 147,
     "metadata": {},
     "output_type": "execute_result"
    }
   ],
   "source": [
    "from sklearn.ensemble import RandomForestClassifier\n",
    "\n",
    "\n",
    "rf_model= RandomForestClassifier(random_state=12,max_depth=14)\n",
    "rf_model.fit(X_train_res, y_train_res)"
   ]
  },
  {
   "cell_type": "code",
   "execution_count": 148,
   "metadata": {},
   "outputs": [
    {
     "name": "stdout",
     "output_type": "stream",
     "text": [
      "0.9320509510284878\n",
      "\n",
      "\n",
      "[[21002  2236]\n",
      " [  922 22316]]\n",
      "              precision    recall  f1-score   support\n",
      "\n",
      "           0       0.96      0.90      0.93     23238\n",
      "           1       0.91      0.96      0.93     23238\n",
      "\n",
      "    accuracy                           0.93     46476\n",
      "   macro avg       0.93      0.93      0.93     46476\n",
      "weighted avg       0.93      0.93      0.93     46476\n",
      "\n"
     ]
    }
   ],
   "source": [
    "# Performance on train data set\n",
    "y_train_predict = rf_model.predict(X_train_res)\n",
    "model_score = rf_model.score(X_train_res, y_train_res)\n",
    "print(model_score)\n",
    "print(\"\\n\")\n",
    "print(confusion_matrix(y_train_res, y_train_predict))\n",
    "print(classification_report(y_train_res, y_train_predict))"
   ]
  },
  {
   "cell_type": "code",
   "execution_count": 149,
   "metadata": {},
   "outputs": [
    {
     "name": "stdout",
     "output_type": "stream",
     "text": [
      "0.7716352363730302\n",
      "\n",
      "\n",
      "[[8497 1533]\n",
      " [1119  464]]\n",
      "              precision    recall  f1-score   support\n",
      "\n",
      "           0       0.88      0.85      0.87     10030\n",
      "           1       0.23      0.29      0.26      1583\n",
      "\n",
      "    accuracy                           0.77     11613\n",
      "   macro avg       0.56      0.57      0.56     11613\n",
      "weighted avg       0.79      0.77      0.78     11613\n",
      "\n"
     ]
    }
   ],
   "source": [
    "#performance on test data\n",
    "y_test_predict = rf_model.predict(X_test)\n",
    "model_score = rf_model.score(X_test, y_test)\n",
    "print(model_score)\n",
    "print(\"\\n\")\n",
    "print(confusion_matrix(y_test, y_test_predict))\n",
    "print(classification_report(y_test, y_test_predict))"
   ]
  },
  {
   "cell_type": "code",
   "execution_count": 8,
   "metadata": {},
   "outputs": [],
   "source": [
    "## space for table"
   ]
  },
  {
   "cell_type": "markdown",
   "metadata": {},
   "source": [
    "### Using Grid Search to get best paramets"
   ]
  },
  {
   "cell_type": "code",
   "execution_count": 150,
   "metadata": {},
   "outputs": [],
   "source": [
    "from sklearn.model_selection import GridSearchCV"
   ]
  },
  {
   "cell_type": "markdown",
   "metadata": {},
   "source": [
    "### Adaboost tuning"
   ]
  },
  {
   "cell_type": "markdown",
   "metadata": {},
   "source": [
    "### Note - dont run the gridsearch in below cell it takes at least 40 mins to run"
   ]
  },
  {
   "cell_type": "code",
   "execution_count": null,
   "metadata": {},
   "outputs": [],
   "source": [
    "# param=[{'learning_rate':[0.3,0.7,1.0,1.4,1.65],'n_estimators':[100,150,200,250,300]}]\n",
    "# ADB_model = AdaBoostClassifier(random_state=1)\n",
    "# adb_grid = GridSearchCV(estimator= ADB_model,\n",
    "#                         param_grid = param,cv=5)\n",
    "# adb_grid.fit(X_train_res,y_train_res)\n",
    "# print('Best parameters for Decision Tree Classifier:',tree_grid.best_params_) "
   ]
  },
  {
   "cell_type": "markdown",
   "metadata": {},
   "source": [
    "### best parameters - {'learning_rate': 1.65, 'n_estimators': 300}"
   ]
  },
  {
   "cell_type": "markdown",
   "metadata": {},
   "source": [
    "### Building the new tuned adaboost model"
   ]
  },
  {
   "cell_type": "code",
   "execution_count": 151,
   "metadata": {},
   "outputs": [
    {
     "data": {
      "text/plain": [
       "AdaBoostClassifier(learning_rate=1.65, n_estimators=300, random_state=1)"
      ]
     },
     "execution_count": 151,
     "metadata": {},
     "output_type": "execute_result"
    }
   ],
   "source": [
    "tuned_ADB_model = AdaBoostClassifier(n_estimators=300,learning_rate=1.65,random_state=1)\n",
    "tuned_ADB_model.fit(X_train_res,y_train_res)"
   ]
  },
  {
   "cell_type": "code",
   "execution_count": 152,
   "metadata": {},
   "outputs": [
    {
     "name": "stdout",
     "output_type": "stream",
     "text": [
      "0.8871890868405199\n",
      "------------------------------------------------------------\n",
      "[[22137  1101]\n",
      " [ 4142 19096]]\n",
      "              precision    recall  f1-score   support\n",
      "\n",
      "           0       0.84      0.95      0.89     23238\n",
      "           1       0.95      0.82      0.88     23238\n",
      "\n",
      "    accuracy                           0.89     46476\n",
      "   macro avg       0.89      0.89      0.89     46476\n",
      "weighted avg       0.89      0.89      0.89     46476\n",
      "\n"
     ]
    }
   ],
   "source": [
    "#train\n",
    "y_train_predict = tuned_ADB_model.predict(X_train_res)\n",
    "model_score = tuned_ADB_model.score(X_train_res, y_train_res)\n",
    "print(model_score)\n",
    "print('---'*20)\n",
    "print(confusion_matrix(y_train_res, y_train_predict))\n",
    "print(classification_report(y_train_res, y_train_predict))"
   ]
  },
  {
   "cell_type": "code",
   "execution_count": 153,
   "metadata": {},
   "outputs": [
    {
     "name": "stdout",
     "output_type": "stream",
     "text": [
      "0.8349263756135366\n",
      "------------------------------------------------------------\n",
      "[[9531  499]\n",
      " [1418  165]]\n",
      "              precision    recall  f1-score   support\n",
      "\n",
      "           0       0.87      0.95      0.91     10030\n",
      "           1       0.25      0.10      0.15      1583\n",
      "\n",
      "    accuracy                           0.83     11613\n",
      "   macro avg       0.56      0.53      0.53     11613\n",
      "weighted avg       0.79      0.83      0.80     11613\n",
      "\n"
     ]
    }
   ],
   "source": [
    "#test\n",
    "y_test_predict = tuned_ADB_model.predict(X_test)\n",
    "model_score = tuned_ADB_model.score(X_test, y_test)\n",
    "print(model_score)\n",
    "print('---'*20)\n",
    "print(confusion_matrix(y_test, y_test_predict))\n",
    "print(classification_report(y_test, y_test_predict))"
   ]
  },
  {
   "cell_type": "markdown",
   "metadata": {},
   "source": [
    "### Adaboost Probabibilty tuning"
   ]
  },
  {
   "cell_type": "code",
   "execution_count": 155,
   "metadata": {},
   "outputs": [],
   "source": [
    "#train data\n",
    "y_prob_train= tuned_ADB_model.predict_proba(X_train_res)[:,1]\n",
    "y_pred_train_new=[]\n",
    "for i in y_prob_train:\n",
    "    if i<0.4994:\n",
    "        y_pred_train_new.append(0)\n",
    "    else:\n",
    "        y_pred_train_new.append(1)"
   ]
  },
  {
   "cell_type": "code",
   "execution_count": 156,
   "metadata": {},
   "outputs": [],
   "source": [
    "#test Data\n",
    "y_prob_test= tuned_ADB_model.predict_proba(X_test)[:,1]\n",
    "y_pred_test_new=[]\n",
    "for i in y_prob_test:\n",
    "    if i<0.49947:\n",
    "        y_pred_test_new.append(0)\n",
    "    else:\n",
    "        y_pred_test_new.append(1)"
   ]
  },
  {
   "cell_type": "code",
   "execution_count": 157,
   "metadata": {},
   "outputs": [
    {
     "name": "stdout",
     "output_type": "stream",
     "text": [
      "0.8246837077201136\n",
      "------------------------------------------------------------\n",
      "[[16089  7149]\n",
      " [ 2042 21196]]\n",
      "              precision    recall  f1-score   support\n",
      "\n",
      "           0       0.89      0.69      0.78     23238\n",
      "           1       0.75      0.91      0.82     23238\n",
      "\n",
      "    accuracy                           0.80     46476\n",
      "   macro avg       0.82      0.80      0.80     46476\n",
      "weighted avg       0.82      0.80      0.80     46476\n",
      "\n"
     ]
    }
   ],
   "source": [
    "#post probabilty tuning train scores\n",
    "model_score = tuned_ADB_model.score(X_train_res, y_pred_train_new)\n",
    "print(model_score)\n",
    "print('---'*20)\n",
    "print(confusion_matrix(y_train_res, y_pred_train_new))\n",
    "print(classification_report(y_train_res, y_pred_train_new))"
   ]
  },
  {
   "cell_type": "code",
   "execution_count": 54,
   "metadata": {},
   "outputs": [
    {
     "name": "stdout",
     "output_type": "stream",
     "text": [
      "0.7747235713547587\n",
      "------------------------------------------------------------\n",
      "[[6242 2105]\n",
      " [ 747  583]]\n",
      "              precision    recall  f1-score   support\n",
      "\n",
      "           0       0.89      0.75      0.81      8347\n",
      "           1       0.22      0.44      0.29      1330\n",
      "\n",
      "    accuracy                           0.71      9677\n",
      "   macro avg       0.56      0.59      0.55      9677\n",
      "weighted avg       0.80      0.71      0.74      9677\n",
      "\n"
     ]
    }
   ],
   "source": [
    "#post probabilty tuning test scores\n",
    "model_score = tuned_ADB_model.score(X_test, y_pred_test_new)\n",
    "print(model_score)\n",
    "print('---'*20)\n",
    "print(confusion_matrix(y_test, y_pred_test_new))\n",
    "print(classification_report(y_test, y_pred_test_new))"
   ]
  },
  {
   "cell_type": "markdown",
   "metadata": {},
   "source": [
    "# Random Forest model tuning"
   ]
  },
  {
   "cell_type": "markdown",
   "metadata": {},
   "source": [
    "### Note - dont run the gridsearch in below cell it takes at least 40 mins to run"
   ]
  },
  {
   "cell_type": "code",
   "execution_count": 158,
   "metadata": {},
   "outputs": [],
   "source": [
    "# param=[{'bootstrap': [True,False],\n",
    "#  'max_leaf_nodes': [5,15,25,40],\n",
    "#  'n_estimators': [100,150,200]}]\n",
    "# rf_model= RandomForestClassifier()\n",
    "# rf_grid = GridSearchCV(estimator= rf_model,\n",
    "#                          param_grid = param,cv=5)\n",
    "# rf_grid.fit(X_train_res,y_train_res)\n",
    "# print('Best parameters for Random Forest:',rf_grid.best_params_)"
   ]
  },
  {
   "cell_type": "markdown",
   "metadata": {},
   "source": [
    "### best prameters { 'bootstrap': True, 'max_leaf_nodes':40, 'n_estimators':100 }"
   ]
  },
  {
   "cell_type": "code",
   "execution_count": 159,
   "metadata": {},
   "outputs": [
    {
     "data": {
      "text/plain": [
       "RandomForestClassifier(max_leaf_nodes=40, random_state=12)"
      ]
     },
     "execution_count": 159,
     "metadata": {},
     "output_type": "execute_result"
    }
   ],
   "source": [
    "from sklearn.ensemble import RandomForestClassifier\n",
    "\n",
    "\n",
    "tuned_rf_model= RandomForestClassifier(bootstrap=True,max_leaf_nodes=40,n_estimators=100,random_state=12)\n",
    "tuned_rf_model.fit(X_train_res, y_train_res)"
   ]
  },
  {
   "cell_type": "code",
   "execution_count": 160,
   "metadata": {},
   "outputs": [
    {
     "name": "stdout",
     "output_type": "stream",
     "text": [
      "0.7612316034082107\n",
      "------------------------------------------------------------\n",
      "[[18452  4786]\n",
      " [ 6311 16927]]\n",
      "              precision    recall  f1-score   support\n",
      "\n",
      "           0       0.75      0.79      0.77     23238\n",
      "           1       0.78      0.73      0.75     23238\n",
      "\n",
      "    accuracy                           0.76     46476\n",
      "   macro avg       0.76      0.76      0.76     46476\n",
      "weighted avg       0.76      0.76      0.76     46476\n",
      "\n"
     ]
    }
   ],
   "source": [
    "# Performance on train data set\n",
    "y_train_predict = tuned_rf_model.predict(X_train_res)\n",
    "model_score = tuned_rf_model.score(X_train_res, y_train_res)\n",
    "print(model_score)\n",
    "print('---'*20)\n",
    "print(confusion_matrix(y_train_res, y_train_predict))\n",
    "print(classification_report(y_train_res, y_train_predict))"
   ]
  },
  {
   "cell_type": "code",
   "execution_count": 161,
   "metadata": {},
   "outputs": [
    {
     "name": "stdout",
     "output_type": "stream",
     "text": [
      "0.7377077413243779\n",
      "------------------------------------------------------------\n",
      "[[7951 2079]\n",
      " [ 967  616]]\n",
      "              precision    recall  f1-score   support\n",
      "\n",
      "           0       0.89      0.79      0.84     10030\n",
      "           1       0.23      0.39      0.29      1583\n",
      "\n",
      "    accuracy                           0.74     11613\n",
      "   macro avg       0.56      0.59      0.56     11613\n",
      "weighted avg       0.80      0.74      0.76     11613\n",
      "\n"
     ]
    }
   ],
   "source": [
    "# Performance on test data set\n",
    "y_test_predict = tuned_rf_model.predict(X_test)\n",
    "model_score = tuned_rf_model.score(X_test, y_test)\n",
    "print(model_score)\n",
    "print('---'*20)\n",
    "print(confusion_matrix(y_test, y_test_predict))\n",
    "print(classification_report(y_test, y_test_predict))"
   ]
  },
  {
   "cell_type": "code",
   "execution_count": 162,
   "metadata": {},
   "outputs": [],
   "source": [
    "#train probabilty tuning\n",
    "y_prob_train= tuned_rf_model.predict_proba(X_train_res)[:,1]\n",
    "y_pred_train_new=[]\n",
    "for i in y_prob_train:\n",
    "    if i<0.46:\n",
    "        y_pred_train_new.append(0)\n",
    "    else:\n",
    "        y_pred_train_new.append(1)"
   ]
  },
  {
   "cell_type": "code",
   "execution_count": 163,
   "metadata": {},
   "outputs": [],
   "source": [
    "#test probabilty tuning\n",
    "y_prob_test= tuned_rf_model.predict_proba(X_test)[:,1]\n",
    "y_pred_test_new=[]\n",
    "for i in y_prob_test:\n",
    "    if i<0.46:\n",
    "        y_pred_test_new.append(0)\n",
    "    else:\n",
    "        y_pred_test_new.append(1)"
   ]
  },
  {
   "cell_type": "code",
   "execution_count": 164,
   "metadata": {},
   "outputs": [
    {
     "name": "stdout",
     "output_type": "stream",
     "text": [
      "0.9042516567690851\n",
      "------------------------------------------------------------\n",
      "[[15902  7336]\n",
      " [ 4411 18827]]\n",
      "              precision    recall  f1-score   support\n",
      "\n",
      "           0       0.78      0.68      0.73     23238\n",
      "           1       0.72      0.81      0.76     23238\n",
      "\n",
      "    accuracy                           0.75     46476\n",
      "   macro avg       0.75      0.75      0.75     46476\n",
      "weighted avg       0.75      0.75      0.75     46476\n",
      "\n"
     ]
    }
   ],
   "source": [
    "#post probabilty tuning train scores\n",
    "model_score = tuned_rf_model.score(X_train_res, y_pred_train_new)\n",
    "print(model_score)\n",
    "print('---'*20)\n",
    "print(confusion_matrix(y_train_res, y_pred_train_new))\n",
    "print(classification_report(y_train_res, y_pred_train_new))"
   ]
  },
  {
   "cell_type": "code",
   "execution_count": 176,
   "metadata": {},
   "outputs": [
    {
     "name": "stdout",
     "output_type": "stream",
     "text": [
      "0.8805648841815207\n",
      "------------------------------------------------------------------------------------------------------------------------\n",
      "[[6814 3216]\n",
      " [ 717  866]]\n",
      "              precision    recall  f1-score   support\n",
      "\n",
      "           0       0.90      0.68      0.78     10030\n",
      "           1       0.21      0.55      0.31      1583\n",
      "\n",
      "    accuracy                           0.66     11613\n",
      "   macro avg       0.56      0.61      0.54     11613\n",
      "weighted avg       0.81      0.66      0.71     11613\n",
      "\n"
     ]
    }
   ],
   "source": [
    "#post porbability tuning test scores\n",
    "model_score = tuned_rf_model.score(X_test, y_pred_test_new)\n",
    "print(model_score)\n",
    "print('---'*40)\n",
    "print(confusion_matrix(y_test, y_pred_test_new))\n",
    "print(classification_report(y_test, y_pred_test_new))"
   ]
  },
  {
   "cell_type": "markdown",
   "metadata": {},
   "source": [
    "**inference - rf forest best result with test and train recall and accuracy"
   ]
  },
  {
   "cell_type": "markdown",
   "metadata": {},
   "source": [
    "## Cross Validation"
   ]
  },
  {
   "cell_type": "code",
   "execution_count": 168,
   "metadata": {},
   "outputs": [
    {
     "data": {
      "text/plain": [
       "array([0.90813253, 0.91006885, 0.91372633, 0.89866609, 0.87306368,\n",
       "       0.8689759 , 0.86679578, 0.87239079, 0.88293523, 0.91650527])"
      ]
     },
     "execution_count": 168,
     "metadata": {},
     "output_type": "execute_result"
    }
   ],
   "source": [
    "#train data\n",
    "from sklearn.model_selection import cross_val_score\n",
    "scores_train = cross_val_score(tuned_rf_model, X_train_res, y_pred_train_new, cv=10)\n",
    "scores_train"
   ]
  },
  {
   "cell_type": "code",
   "execution_count": 170,
   "metadata": {},
   "outputs": [
    {
     "name": "stdout",
     "output_type": "stream",
     "text": [
      "the average train accuracy of the model is :   0.8911260461934429\n"
     ]
    }
   ],
   "source": [
    "print(\"the average train accuracy of the model is :  \",scores_train.mean())"
   ]
  },
  {
   "cell_type": "code",
   "execution_count": 171,
   "metadata": {},
   "outputs": [
    {
     "data": {
      "text/plain": [
       "array([0.90189329, 0.89414802, 0.89414802, 0.89750215, 0.89233419,\n",
       "       0.88975022, 0.86821705, 0.8828596 , 0.88888889, 0.88716624])"
      ]
     },
     "execution_count": 171,
     "metadata": {},
     "output_type": "execute_result"
    }
   ],
   "source": [
    "#test data\n",
    "scores_test = cross_val_score(tuned_rf_model, X_test, y_pred_test_new, cv=10)\n",
    "scores_test"
   ]
  },
  {
   "cell_type": "code",
   "execution_count": 172,
   "metadata": {},
   "outputs": [
    {
     "name": "stdout",
     "output_type": "stream",
     "text": [
      "the average test accuracy of the model is :   0.8896907674996776\n"
     ]
    }
   ],
   "source": [
    "print(\"the average test accuracy of the model is :  \",scores_test.mean())"
   ]
  },
  {
   "cell_type": "markdown",
   "metadata": {},
   "source": [
    "## Model Prediction"
   ]
  },
  {
   "cell_type": "code",
   "execution_count": 173,
   "metadata": {},
   "outputs": [
    {
     "data": {
      "image/png": "[encoded data removed]",
      "text/plain": [
       "<Figure size 720x432 with 2 Axes>"
      ]
     },
     "metadata": {
      "needs_background": "light"
     },
     "output_type": "display_data"
    }
   ],
   "source": [
    "#train data info\n",
    "cm=confusion_matrix(y_train_res,y_pred_train_new)\n",
    "plt.figure(figsize=((10,6)))\n",
    "sns.heatmap(cm,annot=True,cmap='Blues',fmt='.0f')\n",
    "plt.title(\"Tuned Random-forest train data- Confusion Matrix\",fontsize=20)\n",
    "plt.xlabel(\"actual\",fontsize=15)\n",
    "plt.ylabel(\"predicted\",fontsize=15)\n",
    "plt.show()"
   ]
  },
  {
   "cell_type": "code",
   "execution_count": 174,
   "metadata": {},
   "outputs": [
    {
     "data": {
      "image/png": "[encoded data removed]",
      "text/plain": [
       "<Figure size 720x432 with 2 Axes>"
      ]
     },
     "metadata": {
      "needs_background": "light"
     },
     "output_type": "display_data"
    }
   ],
   "source": [
    "#test data info\n",
    "cm=confusion_matrix(y_test,y_pred_test_new)\n",
    "plt.figure(figsize=((10,6)))\n",
    "sns.heatmap(cm,annot=True,cmap='Blues',fmt='.0f')\n",
    "plt.title(\"Tuned Random-forest test data- Confusion Matrix\",fontsize=20)\n",
    "plt.xlabel(\"actual\",fontsize=15)\n",
    "plt.ylabel(\"predicted\",fontsize=15)\n",
    "plt.show()"
   ]
  },
  {
   "cell_type": "code",
   "execution_count": null,
   "metadata": {},
   "outputs": [],
   "source": []
  }
 ],
 "metadata": {
  "kernelspec": {
   "display_name": "Python 3",
   "language": "python",
   "name": "python3"
  },
  "language_info": {
   "codemirror_mode": {
    "name": "ipython",
    "version": 3
   },
   "file_extension": ".py",
   "mimetype": "text/x-python",
   "name": "python",
   "nbconvert_exporter": "python",
   "pygments_lexer": "ipython3",
   "version": "3.8.5"
  }
 },
 "nbformat": 4,
 "nbformat_minor": 4
}
